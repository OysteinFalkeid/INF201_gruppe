{
 "cells": [
  {
   "cell_type": "code",
   "execution_count": 2,
   "metadata": {},
   "outputs": [
    {
     "name": "stdout",
     "output_type": "stream",
     "text": [
      "The golden retriever barks: \"WOOF\"\n",
      "The gray cat exclaims: \"MEOW\"\n"
     ]
    }
   ],
   "source": [
    "# Task 0\n",
    "\n",
    "class Animal:\n",
    "    def __init__(self, name, age):\n",
    "        self._name = name\n",
    "        self._age = age\n",
    "class Dog(Animal):\n",
    "    def __init__(self, name, age, breed):\n",
    "        super().__init__(name, age)\n",
    "        self._breed = breed\n",
    "    def makeSound(self):\n",
    "        print(f'The {self._breed} barks: \"WOOF\"')\n",
    "class Cat(Animal):\n",
    "    def __init__(self, name, age, color):\n",
    "        super().__init__(name, age)\n",
    "        self._color = color\n",
    "    def makeSound(self):\n",
    "        print(f'The {self._color} cat exclaims: \"MEOW\"')\n",
    "dog0 = Dog('Silver', 10, 'golden retriever')\n",
    "cat0 = Cat('Bianca', 8, 'gray')\n",
    "dog0.makeSound()\n",
    "cat0.makeSound()"
   ]
  },
  {
   "cell_type": "code",
   "execution_count": 70,
   "metadata": {},
   "outputs": [
    {
     "name": "stdout",
     "output_type": "stream",
     "text": [
      "Course Algebra already assigned to student0\n",
      "Course Videregående programmering assigned to student0\n",
      "Course Algebra assigned to student1\n",
      "Course Videregående programmering assigned to student1\n",
      "Course Algebra assigned to student2\n",
      "Course Videregående programmering assigned to student2\n",
      "student0 {'Algebra': 3, 'Videregående programmering': 1}\n",
      "student1 {'Algebra': 4, 'Videregående programmering': 3}\n",
      "student2 {'Algebra': 1, 'Videregående programmering': 2}\n",
      "Name: student0, Age: 0, Email: student0@nmbu.no, ID: 0, Courses and grades: ['Algebra', 'Videregående programmering']\n",
      "['student0', 'student1', 'student2']\n"
     ]
    }
   ],
   "source": [
    "# Task 1\n",
    "from typing import Union\n",
    "from typing import Optional\n",
    "import numpy as np\n",
    "\n",
    "class Person:\n",
    "    def __init__(self, name:str, age:int, email:str):\n",
    "        self._name = name\n",
    "        self._age = age\n",
    "        self._email = email\n",
    "    def getDetails(self):\n",
    "        print(f'Name: {self._name}, Age: {self._age}, Email: {self._email}')\n",
    "\n",
    "class Student(Person):\n",
    "    def __init__(self, name:str, age:int, email:str, studentID:int, courses:Optional[list[str]] = None):\n",
    "        super().__init__(name, age, email)\n",
    "        self._studentID = studentID\n",
    "        if courses:\n",
    "            self._courses = courses\n",
    "        else:\n",
    "            self._courses = []\n",
    "        self._grades = {}\n",
    "    def enrollInCourse(self, course):\n",
    "        if course not in self._courses:\n",
    "            self._courses.append(course)\n",
    "            print(f'Course {course} assigned to {self._name}')\n",
    "        else:\n",
    "            print(f'Course {course} already assigned to {self._name}')\n",
    "    def assignGrade(self, course, grade):\n",
    "        self._grades[course] = grade\n",
    "    def getGrades(self):\n",
    "        print(f'{self._name} {self._grades}')\n",
    "    \n",
    "class Teacher(Person):\n",
    "    def __init__(self, name:str, age:int, email:str, subject:str):\n",
    "        super().__init__(name, age, email)\n",
    "        self._subject = subject\n",
    "    def assignGrade(self, student, course:str, grade:int):\n",
    "        student.assignGrade(course, grade)\n",
    "\n",
    "class Courses:\n",
    "    def __init__(self, courseName:str, courseCode:str, enrolledStudents:Optional[list[str]] = None):\n",
    "        self._courseName = courseName\n",
    "        self._courseCode = courseCode\n",
    "        if enrolledStudents:\n",
    "            self._enrolledStudents = enrolledStudents\n",
    "        else:\n",
    "            self._enrolledStudents = []\n",
    "    def addStudent(self, student):\n",
    "        if student not in self._enrolledStudents:\n",
    "            self._enrolledStudents.append(student._name)\n",
    "            student.enrollInCourse(self._courseName)\n",
    "    def listStudents(self):\n",
    "        print(self._enrolledStudents)\n",
    "\n",
    "teacher0 = Teacher('teacher0', 0, 'teacher0@nmbu.no', 'Algebra')\n",
    "teacher1 = Teacher('teacher1', 1, 'teacher1@nmbu.no', 'Videregående programmering')\n",
    "\n",
    "student0 = Student('student0', 0, 'student0@nmbu.no', 0, ['Algebra'])\n",
    "student1 = Student('student1', 1, 'student1@nmbu.no', 1)\n",
    "student2 = Student('student2', 2, 'student2@nmbu.no', 2)\n",
    "students = [student0, student1, student2]\n",
    "\n",
    "course0 = Courses('Algebra', 'MATH201')\n",
    "course1 = Courses('Videregående programmering', 'INF201')\n",
    "for student in students:\n",
    "    course0.addStudent(student)\n",
    "    course1.addStudent(student)\n",
    "for student in students:\n",
    "    teacher0.assignGrade(student, 'Algebra', np.random.randint(1,7))\n",
    "    teacher1.assignGrade(student, 'Videregående programmering', np.random.randint(1,7))\n",
    "    student.getGrades()\n",
    "\n",
    "student0.getDetails()\n",
    "course0.listStudents()\n",
    "\n"
   ]
  }
 ],
 "metadata": {
  "kernelspec": {
   "display_name": "Python 3",
   "language": "python",
   "name": "python3"
  },
  "language_info": {
   "codemirror_mode": {
    "name": "ipython",
    "version": 3
   },
   "file_extension": ".py",
   "mimetype": "text/x-python",
   "name": "python",
   "nbconvert_exporter": "python",
   "pygments_lexer": "ipython3",
   "version": "3.12.7"
  }
 },
 "nbformat": 4,
 "nbformat_minor": 2
}
