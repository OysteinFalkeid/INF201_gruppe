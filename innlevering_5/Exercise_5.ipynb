{
 "cells": [
  {
   "cell_type": "code",
   "execution_count": 16,
   "metadata": {},
   "outputs": [
    {
     "name": "stdout",
     "output_type": "stream",
     "text": [
      "[7, 10, 13]\n"
     ]
    }
   ],
   "source": [
    "# Task 0\n",
    "\n",
    "def inplace_add_vectors (A : list, B : list):\n",
    "    if len(A) == len(B):\n",
    "        for i in range (len(A)):\n",
    "            A[i] = A[i] + B[i]\n",
    "    else:\n",
    "        print('Indexes do no match')\n",
    "A = [ i for i in range(1,4) ]\n",
    "B = [ i for i in range(3,6) ]\n",
    "inplace_add_vectors(A,B)\n",
    "\n",
    "def add_vectors (A : list, B : list):\n",
    "    C = A.copy()\n",
    "    if len(A) == len(B):\n",
    "        for i in range (len(A)):\n",
    "            C[i] = A[i] + B[i]\n",
    "    else:\n",
    "        print('Indexes do no match')\n",
    "    return C\n",
    "C = add_vectors(A,B)\n",
    "print(C)\n",
    "\n"
   ]
  },
  {
   "cell_type": "code",
   "execution_count": 36,
   "metadata": {},
   "outputs": [
    {
     "name": "stdout",
     "output_type": "stream",
     "text": [
      "49.606296\n",
      "12401574\n",
      "[[200 660 870 ... 820  90 400]\n",
      " [380 710 250 ... 240 130 390]\n",
      " [150 650 800 ...  80 420 860]\n",
      " ...\n",
      " [810 880  80 ... 260   0 640]\n",
      " [400 950 680 ... 790  30 790]\n",
      " [520 290 740 ... 860 620 370]]\n",
      "835.5897011604322\n"
     ]
    }
   ],
   "source": [
    "# Task 1\n",
    "\n",
    "import numpy as np\n",
    "shape = (500, 500)\n",
    "matrix = np.random.randint(0,100,shape)\n",
    "\n",
    "def mean(matrix):\n",
    "    sum = 0\n",
    "    size = shape[0]*shape[1]\n",
    "    for row in matrix:\n",
    "        for col in row:\n",
    "             sum += col\n",
    "    return sum/size\n",
    "\n",
    "def sum(matrix):\n",
    "    sum = 0\n",
    "    for row in matrix:\n",
    "        for col in row:\n",
    "             sum += col\n",
    "    return sum\n",
    "\n",
    "def multiply(matrix,val):\n",
    "    multiplyMatrix = matrix.copy()\n",
    "    for i,row in enumerate(matrix):\n",
    "        for j,col in enumerate(row):\n",
    "            multiplyMatrix[i][j] = col*val\n",
    "    return multiplyMatrix\n",
    "\n",
    "def variance(matrix):\n",
    "    sum = 0\n",
    "    meanVal = mean(matrix)\n",
    "    for row in matrix:\n",
    "        for col in row:\n",
    "            sum += (col - meanVal)**2\n",
    "    return (sum/shape[0]**2)\n",
    "\n",
    "print(mean(matrix))\n",
    "print(sum(matrix))\n",
    "print(multiply(matrix,10))\n",
    "print(variance(matrix))"
   ]
  },
  {
   "cell_type": "code",
   "execution_count": 105,
   "metadata": {},
   "outputs": [
    {
     "name": "stdout",
     "output_type": "stream",
     "text": [
      "-3.983513571511639\n",
      "3.996206657474088\n"
     ]
    }
   ],
   "source": [
    "# Task 2\n",
    "\n",
    "import numpy as np\n",
    "shape = (50,50)\n",
    "matrix = [[ 0 for i in range(shape[0]) ] for j in range(shape[1])]\n",
    "for i in range (shape[0]):\n",
    "    for j in range (shape[1]):\n",
    "        if i == j:\n",
    "            matrix[i][j] = -2\n",
    "        elif i-1 == j or i+1 == j:\n",
    "            matrix[i][j] = 1\n",
    "        else:\n",
    "            matrix[i][j] = 0\n",
    "matrix = np.asarray(matrix)\n",
    "vector = np.random.rand(shape[0])\n",
    "\n",
    "for i in range (100):\n",
    "    vector = np.dot(matrix,vector)/np.linalg.norm(vector)\n",
    "\n",
    "vectorT = np.transpose(vector)\n",
    "eigenValue = np.dot(vectorT, np.dot(matrix, vector))/np.dot(vectorT, vector)\n",
    "\n",
    "Lambda, V = np.linalg.eig(matrix)\n",
    "print(eigenValue)\n",
    "print(max(abs(Lambda)))"
   ]
  },
  {
   "cell_type": "code",
   "execution_count": null,
   "metadata": {},
   "outputs": [],
   "source": [
    "# Task 3\n",
    "\n"
   ]
  }
 ],
 "metadata": {
  "kernelspec": {
   "display_name": "Python 3",
   "language": "python",
   "name": "python3"
  },
  "language_info": {
   "codemirror_mode": {
    "name": "ipython",
    "version": 3
   },
   "file_extension": ".py",
   "mimetype": "text/x-python",
   "name": "python",
   "nbconvert_exporter": "python",
   "pygments_lexer": "ipython3",
   "version": "3.11.2"
  }
 },
 "nbformat": 4,
 "nbformat_minor": 2
}
